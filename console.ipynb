{
 "cells": [
  {
   "cell_type": "code",
   "execution_count": null,
   "id": "a1bde9b9",
   "metadata": {},
   "outputs": [],
   "source": [
    "from models import Question, Answer\n",
    "from database import SessionLocal\n",
    "\n",
    "db = SessionLocal()"
   ]
  },
  {
   "cell_type": "code",
   "execution_count": 2,
   "id": "f7ee208a",
   "metadata": {},
   "outputs": [
    {
     "data": {
      "text/plain": [
       "305"
      ]
     },
     "execution_count": 2,
     "metadata": {},
     "output_type": "execute_result"
    }
   ],
   "source": [
    "db.query(Question).count()"
   ]
  },
  {
   "cell_type": "code",
   "execution_count": 3,
   "id": "b1edaaf0",
   "metadata": {},
   "outputs": [
    {
     "data": {
      "text/plain": [
       "13"
      ]
     },
     "execution_count": 3,
     "metadata": {},
     "output_type": "execute_result"
    }
   ],
   "source": [
    "db.query(Answer).count()"
   ]
  },
  {
   "cell_type": "code",
   "execution_count": 4,
   "id": "6df17190",
   "metadata": {},
   "outputs": [
    {
     "data": {
      "text/plain": [
       "13"
      ]
     },
     "execution_count": 4,
     "metadata": {},
     "output_type": "execute_result"
    }
   ],
   "source": [
    "db.query(Question).join(Answer).count()"
   ]
  },
  {
   "cell_type": "code",
   "execution_count": 5,
   "id": "2647e58c",
   "metadata": {},
   "outputs": [
    {
     "data": {
      "text/plain": [
       "311"
      ]
     },
     "execution_count": 5,
     "metadata": {},
     "output_type": "execute_result"
    }
   ],
   "source": [
    "db.query(Question).outerjoin(Answer).count()"
   ]
  },
  {
   "cell_type": "code",
   "execution_count": 6,
   "id": "c1ce5a75",
   "metadata": {},
   "outputs": [
    {
     "data": {
      "text/plain": [
       "305"
      ]
     },
     "execution_count": 6,
     "metadata": {},
     "output_type": "execute_result"
    }
   ],
   "source": [
    "db.query(Question).outerjoin(Answer).distinct().count()"
   ]
  },
  {
   "cell_type": "code",
   "execution_count": 7,
   "id": "1ba1e5f4",
   "metadata": {},
   "outputs": [
    {
     "data": {
      "text/plain": [
       "1"
      ]
     },
     "execution_count": 7,
     "metadata": {},
     "output_type": "execute_result"
    }
   ],
   "source": [
    "db.query(Question).outerjoin(Answer).filter(\n",
    "    Question.content.ilike('%파이썬%') |\n",
    "    Answer.content.ilike('%파이썬%')).distinct().count()"
   ]
  },
  {
   "cell_type": "code",
   "execution_count": null,
   "id": "7b5e156c",
   "metadata": {},
   "outputs": [],
   "source": []
  }
 ],
 "metadata": {
  "kernelspec": {
   "display_name": "general",
   "language": "python",
   "name": "python3"
  },
  "language_info": {
   "codemirror_mode": {
    "name": "ipython",
    "version": 3
   },
   "file_extension": ".py",
   "mimetype": "text/x-python",
   "name": "python",
   "nbconvert_exporter": "python",
   "pygments_lexer": "ipython3",
   "version": "3.12.9"
  }
 },
 "nbformat": 4,
 "nbformat_minor": 5
}
